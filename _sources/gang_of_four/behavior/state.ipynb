{
 "cells": [
  {
   "cell_type": "code",
   "execution_count": 1,
   "id": "beginning-display",
   "metadata": {},
   "outputs": [],
   "source": [
    "from abc import ABC, abstractmethod"
   ]
  },
  {
   "cell_type": "code",
   "execution_count": 6,
   "id": "tutorial-pickup",
   "metadata": {},
   "outputs": [],
   "source": [
    "class Context:\n",
    "    \"\"\"\n",
    "    The Context defines the interface of interest to clients. It also maintains\n",
    "    a reference to an instance of a State subclass, which represents the current\n",
    "    state of the Context.\n",
    "    \"\"\"\n",
    "\n",
    "    _state = None\n",
    "    \"\"\"\n",
    "    A reference to the current state of the Context.\n",
    "    \"\"\"\n",
    "\n",
    "    def __init__(self, state) -> None:\n",
    "        self.transition_to(state)\n",
    "\n",
    "    def transition_to(self, state):\n",
    "        \"\"\"\n",
    "        The Context allows changing the State object at runtime.\n",
    "        \"\"\"\n",
    "\n",
    "        print(f\"Context: Transition to {type(state).__name__}\")\n",
    "        self._state = state\n",
    "        self._state.context = self\n",
    "\n",
    "    \"\"\"\n",
    "    The Context delegates part of its behavior to the current State object.\n",
    "    \"\"\"\n",
    "    def request1(self):\n",
    "        self._state.handle1()\n",
    "\n",
    "    def request2(self):\n",
    "        self._state.handle2()"
   ]
  },
  {
   "cell_type": "code",
   "execution_count": 7,
   "id": "precious-indiana",
   "metadata": {},
   "outputs": [],
   "source": [
    "class State(ABC):\n",
    "    \"\"\"\n",
    "    The base State class declares methods that all Concrete State should\n",
    "    implement and also provides a backreference to the Context object,\n",
    "    associated with the State. This backreference can be used by States to\n",
    "    transition the Context to another State.\n",
    "    \"\"\"\n",
    "\n",
    "    @property\n",
    "    def context(self) -> Context:\n",
    "        return self._context\n",
    "\n",
    "    @context.setter\n",
    "    def context(self, context: Context) -> None:\n",
    "        self._context = context\n",
    "\n",
    "    @abstractmethod\n",
    "    def handle1(self) -> None:\n",
    "        pass\n",
    "\n",
    "    @abstractmethod\n",
    "    def handle2(self) -> None:\n",
    "        pass"
   ]
  },
  {
   "cell_type": "code",
   "execution_count": 8,
   "id": "printable-sleep",
   "metadata": {},
   "outputs": [],
   "source": [
    "class ConcreteStateA(State):\n",
    "    def handle1(self) -> None:\n",
    "        print(\"ConcreteStateA handles request1.\")\n",
    "        print(\"ConcreteStateA wants to change the state of the context.\")\n",
    "        self.context.transition_to(ConcreteStateB())\n",
    "\n",
    "    def handle2(self) -> None:\n",
    "        print(\"ConcreteStateA handles request2.\")\n",
    "\n",
    "\n",
    "class ConcreteStateB(State):\n",
    "    def handle1(self) -> None:\n",
    "        print(\"ConcreteStateB handles request1.\")\n",
    "\n",
    "    def handle2(self) -> None:\n",
    "        print(\"ConcreteStateB handles request2.\")\n",
    "        print(\"ConcreteStateB wants to change the state of the context.\")\n",
    "        self.context.transition_to(ConcreteStateA())"
   ]
  },
  {
   "cell_type": "code",
   "execution_count": 9,
   "id": "perceived-employee",
   "metadata": {},
   "outputs": [
    {
     "name": "stdout",
     "output_type": "stream",
     "text": [
      "Context: Transition to ConcreteStateA\n",
      "ConcreteStateA handles request1.\n",
      "ConcreteStateA wants to change the state of the context.\n",
      "Context: Transition to ConcreteStateB\n",
      "ConcreteStateB handles request2.\n",
      "ConcreteStateB wants to change the state of the context.\n",
      "Context: Transition to ConcreteStateA\n"
     ]
    }
   ],
   "source": [
    "context = Context(ConcreteStateA())\n",
    "context.request1()\n",
    "context.request2()"
   ]
  },
  {
   "cell_type": "code",
   "execution_count": null,
   "id": "outstanding-slide",
   "metadata": {},
   "outputs": [],
   "source": []
  }
 ],
 "metadata": {
  "kernelspec": {
   "display_name": "Python 3",
   "language": "python",
   "name": "python3"
  },
  "language_info": {
   "codemirror_mode": {
    "name": "ipython",
    "version": 3
   },
   "file_extension": ".py",
   "mimetype": "text/x-python",
   "name": "python",
   "nbconvert_exporter": "python",
   "pygments_lexer": "ipython3",
   "version": "3.8.8"
  }
 },
 "nbformat": 4,
 "nbformat_minor": 5
}
