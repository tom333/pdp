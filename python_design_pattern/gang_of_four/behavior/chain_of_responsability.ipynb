{
 "cells": [
  {
   "cell_type": "markdown",
   "id": "vulnerable-grant",
   "metadata": {},
   "source": [
    "# Import nécessaires"
   ]
  },
  {
   "cell_type": "code",
   "execution_count": 1,
   "id": "settled-modem",
   "metadata": {},
   "outputs": [],
   "source": [
    "from abc import ABC, abstractmethod\n",
    "from typing import Any, Optional"
   ]
  },
  {
   "cell_type": "markdown",
   "id": "informed-optics",
   "metadata": {},
   "source": [
    "# Déclaration de la classe abstraite"
   ]
  },
  {
   "cell_type": "code",
   "execution_count": 2,
   "id": "curious-violence",
   "metadata": {},
   "outputs": [],
   "source": [
    "class Handler(ABC):\n",
    "\n",
    "    @abstractmethod\n",
    "    def set_next(self, handler):\n",
    "        pass\n",
    "\n",
    "    @abstractmethod\n",
    "    def handle(self, request) -> Optional[str]:\n",
    "        pass\n"
   ]
  },
  {
   "cell_type": "markdown",
   "id": "lesbian-coordinate",
   "metadata": {},
   "source": [
    "# Classe mère déclarant l'enchainement"
   ]
  },
  {
   "cell_type": "code",
   "execution_count": 3,
   "id": "worse-baseball",
   "metadata": {},
   "outputs": [],
   "source": [
    "class AbstractHandler(Handler):\n",
    "    _next_handler: Handler = None\n",
    "\n",
    "    def set_next(self, handler: Handler) -> Handler:\n",
    "        self._next_handler = handler\n",
    "        # Permet d'enchainer les déclarations\n",
    "        # handler1.set_next(handler2).set_next(handler3)\n",
    "        return handler\n",
    "\n",
    "    @abstractmethod\n",
    "    def handle(self, request: Any) -> str:\n",
    "        if self._next_handler:\n",
    "            return self._next_handler.handle(request)\n",
    "        return None"
   ]
  },
  {
   "cell_type": "markdown",
   "id": "violent-hunger",
   "metadata": {},
   "source": [
    "# Déclaration des classes concrètes\n",
    "3 handlers concrets avec chacun leur comportement spécifique"
   ]
  },
  {
   "cell_type": "code",
   "execution_count": 4,
   "id": "improved-cambodia",
   "metadata": {},
   "outputs": [],
   "source": [
    "class Handler1(AbstractHandler):\n",
    "    def handle(self, request: Any) -> str:\n",
    "        if request == \"Type1\":\n",
    "            return \"%s handled by Handler1\" % request\n",
    "        else:\n",
    "            return super().handle(request)\n",
    "\n",
    "\n",
    "class Handler2(AbstractHandler):\n",
    "    def handle(self, request: Any) -> str:\n",
    "        if request == \"Type2\":\n",
    "            return \"%s handled by Handler2\" % request\n",
    "        else:\n",
    "            return super().handle(request)\n",
    "\n",
    "\n",
    "class Handler3(AbstractHandler):\n",
    "    def handle(self, request: Any) -> str:\n",
    "        if request == \"Type3\":\n",
    "            return \"%s handled by Handler3\" % request\n",
    "        else:\n",
    "            return super().handle(request)"
   ]
  },
  {
   "cell_type": "markdown",
   "id": "english-cause",
   "metadata": {},
   "source": [
    "# Exemple d'implémentation et d'utilisation"
   ]
  },
  {
   "cell_type": "code",
   "execution_count": 5,
   "id": "mexican-stylus",
   "metadata": {},
   "outputs": [
    {
     "name": "stdout",
     "output_type": "stream",
     "text": [
      "Type2 handled by Handler2\n",
      "Type1 handled by Handler1\n",
      "Type3 handled by Handler3\n"
     ]
    }
   ],
   "source": [
    "handler1 = Handler1()\n",
    "handler2 = Handler2()\n",
    "handler3 = Handler3()\n",
    "\n",
    "handler1.set_next(handler2).set_next(handler3)\n",
    "\n",
    "for type_name in [\"Type2\", \"Type1\", \"Type3\"]:\n",
    "    res = handler1.handle(type_name)\n",
    "    print(res)"
   ]
  }
 ],
 "metadata": {
  "kernelspec": {
   "display_name": "Python 3",
   "language": "python",
   "name": "python3"
  },
  "language_info": {
   "codemirror_mode": {
    "name": "ipython",
    "version": 3
   },
   "file_extension": ".py",
   "mimetype": "text/x-python",
   "name": "python",
   "nbconvert_exporter": "python",
   "pygments_lexer": "ipython3",
   "version": "3.8.8"
  }
 },
 "nbformat": 4,
 "nbformat_minor": 5
}
