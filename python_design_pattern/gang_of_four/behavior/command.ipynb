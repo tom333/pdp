{
 "cells": [
  {
   "cell_type": "markdown",
   "id": "joined-thursday",
   "metadata": {},
   "source": [
    "# Commande"
   ]
  },
  {
   "cell_type": "code",
   "execution_count": 1,
   "id": "prompt-holiday",
   "metadata": {},
   "outputs": [],
   "source": [
    "\n",
    "from abc import ABC, abstractmethod"
   ]
  },
  {
   "cell_type": "markdown",
   "id": "dutch-junction",
   "metadata": {},
   "source": [
    "Classe abstraite"
   ]
  },
  {
   "cell_type": "code",
   "execution_count": 2,
   "id": "awful-lounge",
   "metadata": {},
   "outputs": [],
   "source": [
    "class Command(ABC):\n",
    "    @abstractmethod\n",
    "    def execute(self) -> None:\n",
    "        pass"
   ]
  },
  {
   "cell_type": "markdown",
   "id": "imperial-toner",
   "metadata": {},
   "source": [
    "Exemple de commande simple"
   ]
  },
  {
   "cell_type": "code",
   "execution_count": 3,
   "id": "pressing-basin",
   "metadata": {},
   "outputs": [],
   "source": [
    "class SimpleCommand(Command):\n",
    "    def  __init__(self, payload: str) -> None:\n",
    "        self.payload = payload \n",
    "    \n",
    "    def execute(self) -> None:\n",
    "        print(\"simple command executed ! %s\" % self.payload)"
   ]
  },
  {
   "cell_type": "markdown",
   "id": "reliable-journal",
   "metadata": {},
   "source": [
    "Exemple de commande plus complexe"
   ]
  },
  {
   "cell_type": "code",
   "execution_count": 5,
   "id": "outstanding-sherman",
   "metadata": {},
   "outputs": [],
   "source": [
    "class ComplexCommand(Command):\n",
    "    def __init__(self, receiver, a: str) -> None:\n",
    "        self._receiver = receiver\n",
    "        self._a = a\n",
    "        \n",
    "    def execute(self) -> None:\n",
    "        print(\"Complex command executed !\")\n",
    "        self._receiver.deal_with(self._a)"
   ]
  },
  {
   "cell_type": "markdown",
   "id": "selected-killing",
   "metadata": {},
   "source": [
    "Classes utiles à l'exemple"
   ]
  },
  {
   "cell_type": "code",
   "execution_count": 6,
   "id": "understanding-round",
   "metadata": {},
   "outputs": [],
   "source": [
    "class Receiver:\n",
    "    def deal_with(self, a: str) -> None:\n",
    "        print(\"Receiver.deal_with(%s)\" % a)"
   ]
  },
  {
   "cell_type": "code",
   "execution_count": 7,
   "id": "indoor-vertical",
   "metadata": {},
   "outputs": [],
   "source": [
    "class Invoker:\n",
    "    def __init__(self) -> None:\n",
    "        self._on_start = None\n",
    "        self._on_finish = None\n",
    "        \n",
    "    def set_on_start(self, command: Command):\n",
    "        self._on_start = command\n",
    "\n",
    "    def set_on_finish(self, command: Command):\n",
    "        self._on_finish = command\n",
    "        \n",
    "    def do_something_important(self) -> None:\n",
    "        \"\"\"\n",
    "        The Invoker does not depend on concrete command or receiver classes. The\n",
    "        Invoker passes a request to a receiver indirectly, by executing a\n",
    "        command.\n",
    "        \"\"\"\n",
    "\n",
    "        print(\"Invoker: Does anybody want something done before I begin?\")\n",
    "        if isinstance(self._on_start, Command):\n",
    "            self._on_start.execute()\n",
    "\n",
    "        print(\"Invoker: ...doing something really important...\")\n",
    "\n",
    "        print(\"Invoker: Does anybody want something done after I finish?\")\n",
    "        if isinstance(self._on_finish, Command):\n",
    "            self._on_finish.execute()"
   ]
  },
  {
   "cell_type": "markdown",
   "id": "found-swift",
   "metadata": {},
   "source": [
    "Exemple"
   ]
  },
  {
   "cell_type": "code",
   "execution_count": 8,
   "id": "dense-nigeria",
   "metadata": {},
   "outputs": [
    {
     "name": "stdout",
     "output_type": "stream",
     "text": [
      "Invoker: Does anybody want something done before I begin?\n",
      "simple command executed ! Say Hi!\n",
      "Invoker: ...doing something really important...\n",
      "Invoker: Does anybody want something done after I finish?\n",
      "Complex command executed !\n",
      "Receiver.deal_with(Send email)\n"
     ]
    }
   ],
   "source": [
    "if __name__ == \"__main__\":\n",
    "    \"\"\"\n",
    "    The client code can parameterize an invoker with any commands.\n",
    "    \"\"\"\n",
    "\n",
    "    invoker = Invoker()\n",
    "    invoker.set_on_start(SimpleCommand(\"Say Hi!\"))\n",
    "    receiver = Receiver()\n",
    "    invoker.set_on_finish(ComplexCommand(receiver, \"Send email\"))\n",
    "\n",
    "    invoker.do_something_important()"
   ]
  }
 ],
 "metadata": {
  "kernelspec": {
   "display_name": "Python 3",
   "language": "python",
   "name": "python3"
  },
  "language_info": {
   "codemirror_mode": {
    "name": "ipython",
    "version": 3
   },
   "file_extension": ".py",
   "mimetype": "text/x-python",
   "name": "python",
   "nbconvert_exporter": "python",
   "pygments_lexer": "ipython3",
   "version": "3.8.8"
  }
 },
 "nbformat": 4,
 "nbformat_minor": 5
}
