{
 "cells": [
  {
   "cell_type": "code",
   "execution_count": 1,
   "id": "auburn-watts",
   "metadata": {},
   "outputs": [],
   "source": [
    "from abc import ABC, abstractmethod\n"
   ]
  },
  {
   "cell_type": "markdown",
   "id": "roman-paper",
   "metadata": {},
   "source": [
    "# Classe abstraite"
   ]
  },
  {
   "cell_type": "code",
   "execution_count": 4,
   "id": "first-referral",
   "metadata": {},
   "outputs": [],
   "source": [
    "class Expression(ABC):\n",
    "    @abstractmethod\n",
    "    def interpret(stack: []) -> []:\n",
    "        pass"
   ]
  },
  {
   "cell_type": "raw",
   "id": "completed-necklace",
   "metadata": {},
   "source": [
    "# Interpréteurs"
   ]
  },
  {
   "cell_type": "code",
   "execution_count": 10,
   "id": "binding-compilation",
   "metadata": {},
   "outputs": [],
   "source": [
    "class TerminalExpressionNumber(Expression):\n",
    "    def __init__(self, number: int) -> None:\n",
    "        self._number = number\n",
    "        \n",
    "    def interpret(stack:[]) -> []:\n",
    "        return stack.push(self._number)        "
   ]
  },
  {
   "cell_type": "code",
   "execution_count": null,
   "id": "authorized-progressive",
   "metadata": {},
   "outputs": [],
   "source": [
    "class TerminalExpressinPlus(Expression):\n",
    "    def interpret(stack: []) -> []\n",
    "    "
   ]
  },
  {
   "cell_type": "markdown",
   "id": "formed-backing",
   "metadata": {},
   "source": []
  }
 ],
 "metadata": {
  "kernelspec": {
   "display_name": "Python 3",
   "language": "python",
   "name": "python3"
  },
  "language_info": {
   "codemirror_mode": {
    "name": "ipython",
    "version": 3
   },
   "file_extension": ".py",
   "mimetype": "text/x-python",
   "name": "python",
   "nbconvert_exporter": "python",
   "pygments_lexer": "ipython3",
   "version": "3.8.8"
  }
 },
 "nbformat": 4,
 "nbformat_minor": 5
}
