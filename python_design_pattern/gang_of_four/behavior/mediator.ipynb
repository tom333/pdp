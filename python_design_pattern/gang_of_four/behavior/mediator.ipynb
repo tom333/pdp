{
 "cells": [
  {
   "cell_type": "code",
   "execution_count": 2,
   "id": "twenty-soldier",
   "metadata": {},
   "outputs": [],
   "source": [
    "from abc import ABC\n"
   ]
  },
  {
   "cell_type": "markdown",
   "id": "still-mississippi",
   "metadata": {},
   "source": [
    "# Classe abstraite"
   ]
  },
  {
   "cell_type": "code",
   "execution_count": 4,
   "id": "infrared-convergence",
   "metadata": {},
   "outputs": [],
   "source": [
    "class Mediator(ABC):\n",
    "    def notify(self, sender: object, event: str) -> None:\n",
    "        pass"
   ]
  },
  {
   "cell_type": "markdown",
   "id": "breeding-barrel",
   "metadata": {},
   "source": [
    "# Implémentations"
   ]
  },
  {
   "cell_type": "code",
   "execution_count": 10,
   "id": "corporate-edward",
   "metadata": {},
   "outputs": [],
   "source": [
    "class ConcreteMediator(Mediator):\n",
    "    def __init__(self, component1: Component1, component2: Component2) -> None:\n",
    "        self._component1 = component1\n",
    "        self._component1.mediator = self\n",
    "        self._component2 = component2\n",
    "        self._component2.mediator = self\n",
    "\n",
    "    def notify(self, sender: object, event: str) -> None:\n",
    "        if event == \"A\":\n",
    "            print(\"Mediator reacts on A and triggers following operations:\")\n",
    "            self._component2.do_c()\n",
    "        elif event == \"D\":\n",
    "            print(\"Mediator reacts on D and triggers following operations:\")\n",
    "            self._component1.do_b()\n",
    "            self._component2.do_c()\n"
   ]
  },
  {
   "cell_type": "code",
   "execution_count": 12,
   "id": "annoying-diploma",
   "metadata": {},
   "outputs": [],
   "source": [
    "class BaseComponent:\n",
    "    def __init__(self, mediator: Mediator = None) -> None:\n",
    "        self._mediator = mediator\n",
    "\n",
    "    @property\n",
    "    def mediator(self) -> Mediator:\n",
    "        return self._mediator\n",
    "\n",
    "    @mediator.setter\n",
    "    def mediator(self, mediator: Mediator) -> None:\n",
    "        self._mediator = mediator\n"
   ]
  },
  {
   "cell_type": "code",
   "execution_count": 8,
   "id": "funded-access",
   "metadata": {},
   "outputs": [],
   "source": [
    "class Component1(BaseComponent):\n",
    "    def do_a(self) -> None:\n",
    "        print(\"Component 1 does A.\")\n",
    "        self.mediator.notify(self, \"A\")\n",
    "\n",
    "    def do_b(self) -> None:\n",
    "        print(\"Component 1 does B.\")\n",
    "        self.mediator.notify(self, \"B\")\n",
    "\n",
    "\n",
    "class Component2(BaseComponent):\n",
    "    def do_c(self) -> None:\n",
    "        print(\"Component 2 does C.\")\n",
    "        self.mediator.notify(self, \"C\")\n",
    "\n",
    "    def do_d(self) -> None:\n",
    "        print(\"Component 2 does D.\")\n",
    "        self.mediator.notify(self, \"D\")"
   ]
  },
  {
   "cell_type": "code",
   "execution_count": 11,
   "id": "instructional-black",
   "metadata": {},
   "outputs": [
    {
     "name": "stdout",
     "output_type": "stream",
     "text": [
      "Client triggers operation A.\n",
      "Component 1 does A.\n",
      "Mediator reacts on A and triggers following operations:\n",
      "Component 2 does C.\n",
      "\n",
      "Client triggers operation D.\n",
      "Component 2 does D.\n",
      "Mediator reacts on D and triggers following operations:\n",
      "Component 1 does B.\n",
      "Component 2 does C.\n"
     ]
    }
   ],
   "source": [
    "c1 = Component1()\n",
    "c2 = Component2()\n",
    "mediator = ConcreteMediator(c1, c2)\n",
    "\n",
    "print(\"Client triggers operation A.\")\n",
    "c1.do_a()\n",
    "\n",
    "print(\"\\n\", end=\"\")\n",
    "\n",
    "print(\"Client triggers operation D.\")\n",
    "c2.do_d()"
   ]
  }
 ],
 "metadata": {
  "kernelspec": {
   "display_name": "Python 3",
   "language": "python",
   "name": "python3"
  },
  "language_info": {
   "codemirror_mode": {
    "name": "ipython",
    "version": 3
   },
   "file_extension": ".py",
   "mimetype": "text/x-python",
   "name": "python",
   "nbconvert_exporter": "python",
   "pygments_lexer": "ipython3",
   "version": "3.8.8"
  }
 },
 "nbformat": 4,
 "nbformat_minor": 5
}
