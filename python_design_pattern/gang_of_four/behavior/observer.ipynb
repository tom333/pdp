{
 "cells": [
  {
   "cell_type": "code",
   "execution_count": 1,
   "id": "cooked-eight",
   "metadata": {},
   "outputs": [],
   "source": [
    "from abc import ABC, abstractmethod\n",
    "from random import randrange\n",
    "from typing import List"
   ]
  },
  {
   "cell_type": "code",
   "execution_count": 10,
   "id": "reasonable-theme",
   "metadata": {},
   "outputs": [],
   "source": [
    "class Observer(ABC):\n",
    "\n",
    "    @abstractmethod\n",
    "    def update(self, subject) -> None:\n",
    "        pass\n",
    "\n",
    "class Subject(ABC):\n",
    "    \n",
    "    @abstractmethod\n",
    "    def attach(self, observer: Observer) -> None:\n",
    "        pass\n",
    "\n",
    "    @abstractmethod\n",
    "    def detach(self, observer: Observer) -> None:\n",
    "        pass\n",
    "\n",
    "    @abstractmethod\n",
    "    def notify(self) -> None:\n",
    "        pass\n"
   ]
  },
  {
   "cell_type": "code",
   "execution_count": 11,
   "id": "sweet-adelaide",
   "metadata": {},
   "outputs": [],
   "source": [
    "class ConcreteSubject(Subject):\n",
    "    \n",
    "    _state: int = None\n",
    "    \n",
    "    _observers: List[Observer] = []\n",
    "    \n",
    "    def attach(self, observer: Observer) -> None:\n",
    "        print(\"Subject: Attached an observer.\")\n",
    "        self._observers.append(observer)\n",
    "\n",
    "    def detach(self, observer: Observer) -> None:\n",
    "        self._observers.remove(observer)\n",
    "\n",
    "    def notify(self) -> None:\n",
    "        print(\"Subject: Notifying observers...\")\n",
    "        for observer in self._observers:\n",
    "            observer.update(self)\n",
    "\n",
    "    def some_business_logic(self) -> None:\n",
    "        print(\"\\nSubject: I'm doing something important.\")\n",
    "        self._state = randrange(0, 10)\n",
    "\n",
    "        print(f\"Subject: My state has just changed to: {self._state}\")\n",
    "        self.notify()"
   ]
  },
  {
   "cell_type": "code",
   "execution_count": 12,
   "id": "recreational-jordan",
   "metadata": {},
   "outputs": [],
   "source": [
    "class ConcreteObserverA(Observer):\n",
    "    def update(self, subject: Subject) -> None:\n",
    "        if subject._state < 3:\n",
    "            print(\"ConcreteObserverA: Reacted to the event\")\n",
    "\n",
    "\n",
    "class ConcreteObserverB(Observer):\n",
    "    def update(self, subject: Subject) -> None:\n",
    "        if subject._state == 0 or subject._state >= 2:\n",
    "            print(\"ConcreteObserverB: Reacted to the event\")\n"
   ]
  },
  {
   "cell_type": "code",
   "execution_count": 13,
   "id": "attended-maria",
   "metadata": {},
   "outputs": [
    {
     "name": "stdout",
     "output_type": "stream",
     "text": [
      "Subject: Attached an observer.\n",
      "Subject: Attached an observer.\n",
      "\n",
      "Subject: I'm doing something important.\n",
      "Subject: My state has just changed to: 4\n",
      "Subject: Notifying observers...\n",
      "ConcreteObserverB: Reacted to the event\n",
      "\n",
      "Subject: I'm doing something important.\n",
      "Subject: My state has just changed to: 5\n",
      "Subject: Notifying observers...\n",
      "ConcreteObserverB: Reacted to the event\n",
      "\n",
      "Subject: I'm doing something important.\n",
      "Subject: My state has just changed to: 8\n",
      "Subject: Notifying observers...\n",
      "ConcreteObserverB: Reacted to the event\n"
     ]
    }
   ],
   "source": [
    "subject = ConcreteSubject()\n",
    "\n",
    "observer_a = ConcreteObserverA()\n",
    "subject.attach(observer_a)\n",
    "\n",
    "observer_b = ConcreteObserverB()\n",
    "subject.attach(observer_b)\n",
    "\n",
    "subject.some_business_logic()\n",
    "subject.some_business_logic()\n",
    "\n",
    "subject.detach(observer_a)\n",
    "\n",
    "subject.some_business_logic()"
   ]
  }
 ],
 "metadata": {
  "kernelspec": {
   "display_name": "Python 3",
   "language": "python",
   "name": "python3"
  },
  "language_info": {
   "codemirror_mode": {
    "name": "ipython",
    "version": 3
   },
   "file_extension": ".py",
   "mimetype": "text/x-python",
   "name": "python",
   "nbconvert_exporter": "python",
   "pygments_lexer": "ipython3",
   "version": "3.8.8"
  }
 },
 "nbformat": 4,
 "nbformat_minor": 5
}
