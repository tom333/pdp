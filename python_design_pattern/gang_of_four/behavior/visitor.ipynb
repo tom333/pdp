{
 "cells": [
  {
   "cell_type": "code",
   "execution_count": 2,
   "id": "protected-rescue",
   "metadata": {},
   "outputs": [],
   "source": [
    "from abc import ABC, abstractmethod\n",
    "from typing import List"
   ]
  },
  {
   "cell_type": "code",
   "execution_count": 7,
   "id": "planned-parking",
   "metadata": {},
   "outputs": [],
   "source": [
    "class Component(ABC):\n",
    "    \n",
    "    @abstractmethod\n",
    "    def accept(self, visitor) -> None:\n",
    "        pass\n"
   ]
  },
  {
   "cell_type": "code",
   "execution_count": 9,
   "id": "solid-warning",
   "metadata": {},
   "outputs": [],
   "source": [
    "class ConcreteComponentA(Component):\n",
    "    \n",
    "    def accept(self, visitor) -> None:\n",
    "        visitor.visit_concrete_component_a(self)\n",
    "\n",
    "    def exclusive_method_of_concrete_component_a(self) -> str:\n",
    "        return \"A\"\n",
    "\n",
    "\n",
    "class ConcreteComponentB(Component):\n",
    "    def accept(self, visitor):\n",
    "        visitor.visit_concrete_component_b(self)\n",
    "\n",
    "    def special_method_of_concrete_component_b(self) -> str:\n",
    "        return \"B\""
   ]
  },
  {
   "cell_type": "code",
   "execution_count": 10,
   "id": "nominated-share",
   "metadata": {},
   "outputs": [],
   "source": [
    "class Visitor(ABC):\n",
    "    @abstractmethod\n",
    "    def visit_concrete_component_a(self, element: ConcreteComponentA) -> None:\n",
    "        pass\n",
    "\n",
    "    @abstractmethod\n",
    "    def visit_concrete_component_b(self, element: ConcreteComponentB) -> None:\n",
    "        pass\n"
   ]
  },
  {
   "cell_type": "code",
   "execution_count": 11,
   "id": "commercial-expansion",
   "metadata": {},
   "outputs": [],
   "source": [
    "class ConcreteVisitor1(Visitor):\n",
    "    def visit_concrete_component_a(self, element) -> None:\n",
    "        print(f\"{element.exclusive_method_of_concrete_component_a()} + ConcreteVisitor1\")\n",
    "\n",
    "    def visit_concrete_component_b(self, element) -> None:\n",
    "        print(f\"{element.special_method_of_concrete_component_b()} + ConcreteVisitor1\")\n",
    "\n",
    "\n",
    "class ConcreteVisitor2(Visitor):\n",
    "    def visit_concrete_component_a(self, element) -> None:\n",
    "        print(f\"{element.exclusive_method_of_concrete_component_a()} + ConcreteVisitor2\")\n",
    "\n",
    "    def visit_concrete_component_b(self, element) -> None:\n",
    "        print(f\"{element.special_method_of_concrete_component_b()} + ConcreteVisitor2\")"
   ]
  },
  {
   "cell_type": "code",
   "execution_count": 12,
   "id": "compact-assurance",
   "metadata": {},
   "outputs": [
    {
     "name": "stdout",
     "output_type": "stream",
     "text": [
      "The client code works with all visitors via the base Visitor interface:\n",
      "A + ConcreteVisitor1\n",
      "B + ConcreteVisitor1\n",
      "It allows the same client code to work with different types of visitors:\n",
      "A + ConcreteVisitor2\n",
      "B + ConcreteVisitor2\n"
     ]
    }
   ],
   "source": [
    "def client_code(components: List[Component], visitor: Visitor) -> None:\n",
    "    \n",
    "    for component in components:\n",
    "        component.accept(visitor)\n",
    "\n",
    "components = [ConcreteComponentA(), ConcreteComponentB()]\n",
    "\n",
    "print(\"The client code works with all visitors via the base Visitor interface:\")\n",
    "visitor1 = ConcreteVisitor1()\n",
    "client_code(components, visitor1)\n",
    "\n",
    "print(\"It allows the same client code to work with different types of visitors:\")\n",
    "visitor2 = ConcreteVisitor2()\n",
    "client_code(components, visitor2)"
   ]
  }
 ],
 "metadata": {
  "kernelspec": {
   "display_name": "Python 3",
   "language": "python",
   "name": "python3"
  },
  "language_info": {
   "codemirror_mode": {
    "name": "ipython",
    "version": 3
   },
   "file_extension": ".py",
   "mimetype": "text/x-python",
   "name": "python",
   "nbconvert_exporter": "python",
   "pygments_lexer": "ipython3",
   "version": "3.8.8"
  }
 },
 "nbformat": 4,
 "nbformat_minor": 5
}
